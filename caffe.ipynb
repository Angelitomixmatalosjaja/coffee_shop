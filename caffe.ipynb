{
 "cells": [
  {
   "cell_type": "code",
   "execution_count": 22,
   "metadata": {},
   "outputs": [],
   "source": [
    "import pandas as pd\n",
    "import numpy as np\n",
    "import matplotlib.pyplot as plt"
   ]
  },
  {
   "cell_type": "code",
   "execution_count": 3,
   "metadata": {},
   "outputs": [],
   "source": [
    "df1 = pd.read_csv('index_1.csv')\n",
    "df2 = pd.read_csv('index_2.csv')"
   ]
  },
  {
   "cell_type": "code",
   "execution_count": 4,
   "metadata": {},
   "outputs": [
    {
     "data": {
      "application/vnd.microsoft.datawrangler.viewer.v0+json": {
       "columns": [
        {
         "name": "index",
         "rawType": "int64",
         "type": "integer"
        },
        {
         "name": "date",
         "rawType": "object",
         "type": "string"
        },
        {
         "name": "datetime",
         "rawType": "object",
         "type": "string"
        },
        {
         "name": "cash_type",
         "rawType": "object",
         "type": "string"
        },
        {
         "name": "card",
         "rawType": "object",
         "type": "unknown"
        },
        {
         "name": "money",
         "rawType": "float64",
         "type": "float"
        },
        {
         "name": "coffee_name",
         "rawType": "object",
         "type": "string"
        }
       ],
       "ref": "f5b81193-39fb-4814-9f7b-99774436eb29",
       "rows": [
        [
         "0",
         "2024-03-01",
         "2024-03-01 10:15:50.520",
         "card",
         "ANON-0000-0000-0001",
         "38.7",
         "Latte"
        ],
        [
         "1",
         "2024-03-01",
         "2024-03-01 12:19:22.539",
         "card",
         "ANON-0000-0000-0002",
         "38.7",
         "Hot Chocolate"
        ],
        [
         "2",
         "2024-03-01",
         "2024-03-01 12:20:18.089",
         "card",
         "ANON-0000-0000-0002",
         "38.7",
         "Hot Chocolate"
        ],
        [
         "3",
         "2024-03-01",
         "2024-03-01 13:46:33.006",
         "card",
         "ANON-0000-0000-0003",
         "28.9",
         "Americano"
        ],
        [
         "4",
         "2024-03-01",
         "2024-03-01 13:48:14.626",
         "card",
         "ANON-0000-0000-0004",
         "38.7",
         "Latte"
        ],
        [
         "5",
         "2024-03-01",
         "2024-03-01 15:39:47.726",
         "card",
         "ANON-0000-0000-0005",
         "33.8",
         "Americano with Milk"
        ],
        [
         "6",
         "2024-03-01",
         "2024-03-01 16:19:02.756",
         "card",
         "ANON-0000-0000-0006",
         "38.7",
         "Hot Chocolate"
        ],
        [
         "7",
         "2024-03-01",
         "2024-03-01 18:39:03.580",
         "card",
         "ANON-0000-0000-0007",
         "33.8",
         "Americano with Milk"
        ],
        [
         "8",
         "2024-03-01",
         "2024-03-01 19:22:01.762",
         "card",
         "ANON-0000-0000-0008",
         "38.7",
         "Cocoa"
        ],
        [
         "9",
         "2024-03-01",
         "2024-03-01 19:23:15.887",
         "card",
         "ANON-0000-0000-0008",
         "33.8",
         "Americano with Milk"
        ],
        [
         "10",
         "2024-03-01",
         "2024-03-01 19:29:17.391",
         "card",
         "ANON-0000-0000-0009",
         "33.8",
         "Americano with Milk"
        ],
        [
         "11",
         "2024-03-02",
         "2024-03-02 10:22:06.957",
         "card",
         "ANON-0000-0000-0010",
         "28.9",
         "Americano"
        ],
        [
         "12",
         "2024-03-02",
         "2024-03-02 10:30:35.668",
         "cash",
         null,
         "40.0",
         "Latte"
        ],
        [
         "13",
         "2024-03-02",
         "2024-03-02 10:41:41.249",
         "card",
         "ANON-0000-0000-0011",
         "33.8",
         "Americano with Milk"
        ],
        [
         "14",
         "2024-03-02",
         "2024-03-02 11:59:45.484",
         "card",
         "ANON-0000-0000-0012",
         "33.8",
         "Americano with Milk"
        ],
        [
         "15",
         "2024-03-02",
         "2024-03-02 14:38:35.535",
         "card",
         "ANON-0000-0000-0013",
         "28.9",
         "Americano"
        ],
        [
         "16",
         "2024-03-02",
         "2024-03-02 16:37:24.475",
         "card",
         "ANON-0000-0000-0014",
         "33.8",
         "Americano with Milk"
        ],
        [
         "17",
         "2024-03-02",
         "2024-03-02 17:34:54.969",
         "card",
         "ANON-0000-0000-0004",
         "28.9",
         "Americano"
        ],
        [
         "18",
         "2024-03-03",
         "2024-03-03 10:10:43.981",
         "cash",
         null,
         "40.0",
         "Latte"
        ],
        [
         "19",
         "2024-03-03",
         "2024-03-03 10:27:18.561",
         "card",
         "ANON-0000-0000-0015",
         "38.7",
         "Latte"
        ],
        [
         "20",
         "2024-03-03",
         "2024-03-03 11:33:56.118",
         "card",
         "ANON-0000-0000-0016",
         "28.9",
         "Cortado"
        ],
        [
         "21",
         "2024-03-03",
         "2024-03-03 12:26:56.098",
         "card",
         "ANON-0000-0000-0012",
         "28.9",
         "Americano"
        ],
        [
         "22",
         "2024-03-03",
         "2024-03-03 13:09:36.321",
         "card",
         "ANON-0000-0000-0017",
         "38.7",
         "Hot Chocolate"
        ],
        [
         "23",
         "2024-03-03",
         "2024-03-03 17:06:40.271",
         "card",
         "ANON-0000-0000-0018",
         "38.7",
         "Cocoa"
        ],
        [
         "24",
         "2024-03-03",
         "2024-03-03 17:08:45.895",
         "card",
         "ANON-0000-0000-0019",
         "28.9",
         "Cortado"
        ],
        [
         "25",
         "2024-03-03",
         "2024-03-03 18:03:23.369",
         "card",
         "ANON-0000-0000-0020",
         "33.8",
         "Americano with Milk"
        ],
        [
         "26",
         "2024-03-03",
         "2024-03-03 18:04:27.946",
         "card",
         "ANON-0000-0000-0020",
         "33.8",
         "Americano with Milk"
        ],
        [
         "27",
         "2024-03-03",
         "2024-03-03 18:08:04.959",
         "card",
         "ANON-0000-0000-0020",
         "38.7",
         "Hot Chocolate"
        ],
        [
         "28",
         "2024-03-04",
         "2024-03-04 10:03:51.994",
         "card",
         "ANON-0000-0000-0001",
         "38.7",
         "Latte"
        ],
        [
         "29",
         "2024-03-04",
         "2024-03-04 10:54:50.958",
         "card",
         "ANON-0000-0000-0021",
         "38.7",
         "Latte"
        ],
        [
         "30",
         "2024-03-04",
         "2024-03-04 11:05:16.184",
         "card",
         "ANON-0000-0000-0012",
         "33.8",
         "Americano with Milk"
        ],
        [
         "31",
         "2024-03-04",
         "2024-03-04 14:04:37.734",
         "card",
         "ANON-0000-0000-0022",
         "24.0",
         "Espresso"
        ],
        [
         "32",
         "2024-03-05",
         "2024-03-05 09:59:52.651",
         "card",
         "ANON-0000-0000-0001",
         "38.7",
         "Latte"
        ],
        [
         "33",
         "2024-03-05",
         "2024-03-05 14:34:55.963",
         "card",
         "ANON-0000-0000-0023",
         "38.7",
         "Latte"
        ],
        [
         "34",
         "2024-03-05",
         "2024-03-05 17:34:06.043",
         "card",
         "ANON-0000-0000-0024",
         "38.7",
         "Latte"
        ],
        [
         "35",
         "2024-03-05",
         "2024-03-05 17:35:25.021",
         "card",
         "ANON-0000-0000-0025",
         "38.7",
         "Hot Chocolate"
        ],
        [
         "36",
         "2024-03-05",
         "2024-03-05 17:36:28.571",
         "card",
         "ANON-0000-0000-0026",
         "38.7",
         "Cocoa"
        ],
        [
         "37",
         "2024-03-05",
         "2024-03-05 17:37:13.659",
         "card",
         "ANON-0000-0000-0027",
         "38.7",
         "Hot Chocolate"
        ],
        [
         "38",
         "2024-03-05",
         "2024-03-05 17:38:09.354",
         "card",
         "ANON-0000-0000-0009",
         "38.7",
         "Hot Chocolate"
        ],
        [
         "39",
         "2024-03-05",
         "2024-03-05 17:56:15.776",
         "card",
         "ANON-0000-0000-0028",
         "28.9",
         "Cortado"
        ],
        [
         "40",
         "2024-03-05",
         "2024-03-05 18:01:31.242",
         "card",
         "ANON-0000-0000-0028",
         "38.7",
         "Hot Chocolate"
        ],
        [
         "41",
         "2024-03-06",
         "2024-03-06 12:30:27.089",
         "cash",
         null,
         "35.0",
         "Americano with Milk"
        ],
        [
         "42",
         "2024-03-06",
         "2024-03-06 13:24:07.667",
         "card",
         "ANON-0000-0000-0012",
         "28.9",
         "Americano"
        ],
        [
         "43",
         "2024-03-06",
         "2024-03-06 13:25:14.351",
         "card",
         "ANON-0000-0000-0012",
         "28.9",
         "Cortado"
        ],
        [
         "44",
         "2024-03-06",
         "2024-03-06 14:52:01.761",
         "card",
         "ANON-0000-0000-0029",
         "38.7",
         "Cappuccino"
        ],
        [
         "45",
         "2024-03-06",
         "2024-03-06 14:53:18.344",
         "card",
         "ANON-0000-0000-0029",
         "38.7",
         "Cappuccino"
        ],
        [
         "46",
         "2024-03-07",
         "2024-03-07 10:08:58.945",
         "cash",
         null,
         "40.0",
         "Latte"
        ],
        [
         "47",
         "2024-03-07",
         "2024-03-07 10:18:40.543",
         "card",
         "ANON-0000-0000-0030",
         "38.7",
         "Hot Chocolate"
        ],
        [
         "48",
         "2024-03-07",
         "2024-03-07 11:03:58.976",
         "card",
         "ANON-0000-0000-0031",
         "38.7",
         "Latte"
        ],
        [
         "49",
         "2024-03-07",
         "2024-03-07 11:25:43.977",
         "cash",
         null,
         "40.0",
         "Latte"
        ]
       ],
       "shape": {
        "columns": 6,
        "rows": 3636
       }
      },
      "text/html": [
       "<div>\n",
       "<style scoped>\n",
       "    .dataframe tbody tr th:only-of-type {\n",
       "        vertical-align: middle;\n",
       "    }\n",
       "\n",
       "    .dataframe tbody tr th {\n",
       "        vertical-align: top;\n",
       "    }\n",
       "\n",
       "    .dataframe thead th {\n",
       "        text-align: right;\n",
       "    }\n",
       "</style>\n",
       "<table border=\"1\" class=\"dataframe\">\n",
       "  <thead>\n",
       "    <tr style=\"text-align: right;\">\n",
       "      <th></th>\n",
       "      <th>date</th>\n",
       "      <th>datetime</th>\n",
       "      <th>cash_type</th>\n",
       "      <th>card</th>\n",
       "      <th>money</th>\n",
       "      <th>coffee_name</th>\n",
       "    </tr>\n",
       "  </thead>\n",
       "  <tbody>\n",
       "    <tr>\n",
       "      <th>0</th>\n",
       "      <td>2024-03-01</td>\n",
       "      <td>2024-03-01 10:15:50.520</td>\n",
       "      <td>card</td>\n",
       "      <td>ANON-0000-0000-0001</td>\n",
       "      <td>38.70</td>\n",
       "      <td>Latte</td>\n",
       "    </tr>\n",
       "    <tr>\n",
       "      <th>1</th>\n",
       "      <td>2024-03-01</td>\n",
       "      <td>2024-03-01 12:19:22.539</td>\n",
       "      <td>card</td>\n",
       "      <td>ANON-0000-0000-0002</td>\n",
       "      <td>38.70</td>\n",
       "      <td>Hot Chocolate</td>\n",
       "    </tr>\n",
       "    <tr>\n",
       "      <th>2</th>\n",
       "      <td>2024-03-01</td>\n",
       "      <td>2024-03-01 12:20:18.089</td>\n",
       "      <td>card</td>\n",
       "      <td>ANON-0000-0000-0002</td>\n",
       "      <td>38.70</td>\n",
       "      <td>Hot Chocolate</td>\n",
       "    </tr>\n",
       "    <tr>\n",
       "      <th>3</th>\n",
       "      <td>2024-03-01</td>\n",
       "      <td>2024-03-01 13:46:33.006</td>\n",
       "      <td>card</td>\n",
       "      <td>ANON-0000-0000-0003</td>\n",
       "      <td>28.90</td>\n",
       "      <td>Americano</td>\n",
       "    </tr>\n",
       "    <tr>\n",
       "      <th>4</th>\n",
       "      <td>2024-03-01</td>\n",
       "      <td>2024-03-01 13:48:14.626</td>\n",
       "      <td>card</td>\n",
       "      <td>ANON-0000-0000-0004</td>\n",
       "      <td>38.70</td>\n",
       "      <td>Latte</td>\n",
       "    </tr>\n",
       "    <tr>\n",
       "      <th>...</th>\n",
       "      <td>...</td>\n",
       "      <td>...</td>\n",
       "      <td>...</td>\n",
       "      <td>...</td>\n",
       "      <td>...</td>\n",
       "      <td>...</td>\n",
       "    </tr>\n",
       "    <tr>\n",
       "      <th>3631</th>\n",
       "      <td>2025-03-23</td>\n",
       "      <td>2025-03-23 10:34:54.894</td>\n",
       "      <td>card</td>\n",
       "      <td>ANON-0000-0000-1158</td>\n",
       "      <td>35.76</td>\n",
       "      <td>Cappuccino</td>\n",
       "    </tr>\n",
       "    <tr>\n",
       "      <th>3632</th>\n",
       "      <td>2025-03-23</td>\n",
       "      <td>2025-03-23 14:43:37.362</td>\n",
       "      <td>card</td>\n",
       "      <td>ANON-0000-0000-1315</td>\n",
       "      <td>35.76</td>\n",
       "      <td>Cocoa</td>\n",
       "    </tr>\n",
       "    <tr>\n",
       "      <th>3633</th>\n",
       "      <td>2025-03-23</td>\n",
       "      <td>2025-03-23 14:44:16.864</td>\n",
       "      <td>card</td>\n",
       "      <td>ANON-0000-0000-1315</td>\n",
       "      <td>35.76</td>\n",
       "      <td>Cocoa</td>\n",
       "    </tr>\n",
       "    <tr>\n",
       "      <th>3634</th>\n",
       "      <td>2025-03-23</td>\n",
       "      <td>2025-03-23 15:47:28.723</td>\n",
       "      <td>card</td>\n",
       "      <td>ANON-0000-0000-1316</td>\n",
       "      <td>25.96</td>\n",
       "      <td>Americano</td>\n",
       "    </tr>\n",
       "    <tr>\n",
       "      <th>3635</th>\n",
       "      <td>2025-03-23</td>\n",
       "      <td>2025-03-23 18:11:38.635</td>\n",
       "      <td>card</td>\n",
       "      <td>ANON-0000-0000-1275</td>\n",
       "      <td>35.76</td>\n",
       "      <td>Latte</td>\n",
       "    </tr>\n",
       "  </tbody>\n",
       "</table>\n",
       "<p>3636 rows × 6 columns</p>\n",
       "</div>"
      ],
      "text/plain": [
       "            date                 datetime cash_type                 card  \\\n",
       "0     2024-03-01  2024-03-01 10:15:50.520      card  ANON-0000-0000-0001   \n",
       "1     2024-03-01  2024-03-01 12:19:22.539      card  ANON-0000-0000-0002   \n",
       "2     2024-03-01  2024-03-01 12:20:18.089      card  ANON-0000-0000-0002   \n",
       "3     2024-03-01  2024-03-01 13:46:33.006      card  ANON-0000-0000-0003   \n",
       "4     2024-03-01  2024-03-01 13:48:14.626      card  ANON-0000-0000-0004   \n",
       "...          ...                      ...       ...                  ...   \n",
       "3631  2025-03-23  2025-03-23 10:34:54.894      card  ANON-0000-0000-1158   \n",
       "3632  2025-03-23  2025-03-23 14:43:37.362      card  ANON-0000-0000-1315   \n",
       "3633  2025-03-23  2025-03-23 14:44:16.864      card  ANON-0000-0000-1315   \n",
       "3634  2025-03-23  2025-03-23 15:47:28.723      card  ANON-0000-0000-1316   \n",
       "3635  2025-03-23  2025-03-23 18:11:38.635      card  ANON-0000-0000-1275   \n",
       "\n",
       "      money    coffee_name  \n",
       "0     38.70          Latte  \n",
       "1     38.70  Hot Chocolate  \n",
       "2     38.70  Hot Chocolate  \n",
       "3     28.90      Americano  \n",
       "4     38.70          Latte  \n",
       "...     ...            ...  \n",
       "3631  35.76     Cappuccino  \n",
       "3632  35.76          Cocoa  \n",
       "3633  35.76          Cocoa  \n",
       "3634  25.96      Americano  \n",
       "3635  35.76          Latte  \n",
       "\n",
       "[3636 rows x 6 columns]"
      ]
     },
     "execution_count": 4,
     "metadata": {},
     "output_type": "execute_result"
    }
   ],
   "source": [
    "df1"
   ]
  },
  {
   "cell_type": "code",
   "execution_count": 5,
   "metadata": {},
   "outputs": [
    {
     "data": {
      "application/vnd.microsoft.datawrangler.viewer.v0+json": {
       "columns": [
        {
         "name": "index",
         "rawType": "int64",
         "type": "integer"
        },
        {
         "name": "date",
         "rawType": "object",
         "type": "string"
        },
        {
         "name": "datetime",
         "rawType": "object",
         "type": "string"
        },
        {
         "name": "cash_type",
         "rawType": "object",
         "type": "string"
        },
        {
         "name": "money",
         "rawType": "float64",
         "type": "float"
        },
        {
         "name": "coffee_name",
         "rawType": "object",
         "type": "string"
        }
       ],
       "ref": "f219e54b-ae79-4391-8fb2-1b7105e8a3fd",
       "rows": [
        [
         "0",
         "2025-02-08",
         "2025-02-08 14:26:04",
         "cash",
         "15.0",
         "Tea"
        ],
        [
         "1",
         "2025-02-08",
         "2025-02-08 14:28:26",
         "cash",
         "15.0",
         "Tea"
        ],
        [
         "2",
         "2025-02-08",
         "2025-02-08 14:33:04",
         "card",
         "20.0",
         "Espresso"
        ],
        [
         "3",
         "2025-02-08",
         "2025-02-08 15:51:04",
         "card",
         "30.0",
         "Chocolate with coffee"
        ],
        [
         "4",
         "2025-02-08",
         "2025-02-08 16:35:01",
         "cash",
         "27.0",
         "Chocolate with milk"
        ],
        [
         "5",
         "2025-02-08",
         "2025-02-08 18:55:30",
         "card",
         "33.0",
         "Espresso"
        ],
        [
         "6",
         "2025-02-08",
         "2025-02-08 18:59:03",
         "cash",
         "29.0",
         "Coffee with Irish whiskey"
        ],
        [
         "7",
         "2025-02-08",
         "2025-02-08 19:00:28",
         "cash",
         "27.0",
         "Irish whiskey with milk"
        ],
        [
         "8",
         "2025-02-09",
         "2025-02-09 08:45:45",
         "card",
         "28.0",
         "Double Irish whiskey"
        ],
        [
         "9",
         "2025-02-09",
         "2025-02-09 10:41:36",
         "cash",
         "30.0",
         "Chocolate with coffee"
        ],
        [
         "10",
         "2025-02-09",
         "2025-02-09 10:42:55",
         "cash",
         "27.0",
         "Double espresso"
        ],
        [
         "11",
         "2025-02-09",
         "2025-02-09 12:18:53",
         "cash",
         "25.0",
         "Americano with milk"
        ],
        [
         "12",
         "2025-02-09",
         "2025-02-09 13:28:56",
         "card",
         "20.0",
         "Espresso"
        ],
        [
         "13",
         "2025-02-09",
         "2025-02-09 15:16:48",
         "card",
         "30.0",
         "Cappuccino"
        ],
        [
         "14",
         "2025-02-09",
         "2025-02-09 15:43:17",
         "card",
         "32.0",
         "Double espresso with milk"
        ],
        [
         "15",
         "2025-02-09",
         "2025-02-09 16:14:26",
         "card",
         "28.0",
         "Double Irish whiskey"
        ],
        [
         "16",
         "2025-02-09",
         "2025-02-09 16:23:52",
         "card",
         "28.0",
         "Caramel with Irish whiskey"
        ],
        [
         "17",
         "2025-02-09",
         "2025-02-09 16:25:15",
         "card",
         "33.0",
         "Latte"
        ],
        [
         "18",
         "2025-02-09",
         "2025-02-09 17:47:17",
         "card",
         "33.0",
         "Latte"
        ],
        [
         "19",
         "2025-02-09",
         "2025-02-09 18:01:22",
         "card",
         "25.0",
         "Americano with milk"
        ],
        [
         "20",
         "2025-02-09",
         "2025-02-09 18:01:22",
         "card",
         "33.0",
         "Latte"
        ],
        [
         "21",
         "2025-02-09",
         "2025-02-09 18:01:22",
         "card",
         "15.0",
         "Tea"
        ],
        [
         "22",
         "2025-02-09",
         "2025-02-09 18:02:39",
         "card",
         "28.0",
         "Caramel with Irish whiskey"
        ],
        [
         "23",
         "2025-02-09",
         "2025-02-09 19:50:36",
         "cash",
         "29.0",
         "Coffee with Irish whiskey"
        ],
        [
         "24",
         "2025-02-10",
         "2025-02-10 09:26:07",
         "cash",
         "25.0",
         "Americano"
        ],
        [
         "25",
         "2025-02-10",
         "2025-02-10 12:26:32",
         "cash",
         "25.0",
         "Americano"
        ],
        [
         "26",
         "2025-02-10",
         "2025-02-10 18:21:29",
         "cash",
         "27.0",
         "Chocolate with milk"
        ],
        [
         "27",
         "2025-02-11",
         "2025-02-11 09:49:22",
         "card",
         "15.0",
         "Tea"
        ],
        [
         "28",
         "2025-02-11",
         "2025-02-11 18:35:30",
         "card",
         "25.0",
         "Americano"
        ],
        [
         "29",
         "2025-02-12",
         "2025-02-12 17:57:46",
         "cash",
         "27.0",
         "Chocolate with milk"
        ],
        [
         "30",
         "2025-02-13",
         "2025-02-13 07:55:09",
         "card",
         "33.0",
         "Latte"
        ],
        [
         "31",
         "2025-02-13",
         "2025-02-13 08:12:14",
         "card",
         "32.0",
         "Double espresso with milk"
        ],
        [
         "32",
         "2025-02-13",
         "2025-02-13 08:47:48",
         "card",
         "30.0",
         "Cappuccino"
        ],
        [
         "33",
         "2025-02-13",
         "2025-02-13 10:28:04",
         "card",
         "25.0",
         "Americano with milk"
        ],
        [
         "34",
         "2025-02-14",
         "2025-02-14 12:33:35",
         "card",
         "20.0",
         "Espresso"
        ],
        [
         "35",
         "2025-02-14",
         "2025-02-14 14:27:58",
         "cash",
         "20.0",
         "Espresso"
        ],
        [
         "36",
         "2025-02-14",
         "2025-02-14 14:33:41",
         "card",
         "28.0",
         "Double Irish whiskey"
        ],
        [
         "37",
         "2025-02-14",
         "2025-02-14 16:09:35",
         "cash",
         "20.0",
         "Espresso"
        ],
        [
         "38",
         "2025-02-14",
         "2025-02-14 19:02:15",
         "card",
         "20.0",
         "Espresso"
        ],
        [
         "39",
         "2025-02-14",
         "2025-02-14 19:24:49",
         "cash",
         "27.0",
         "Chocolate with milk"
        ],
        [
         "40",
         "2025-02-14",
         "2025-02-14 19:30:59",
         "card",
         "29.0",
         "Coffee with Irish whiskey"
        ],
        [
         "41",
         "2025-02-14",
         "2025-02-14 19:53:26",
         "card",
         "28.0",
         "Super chocolate"
        ],
        [
         "42",
         "2025-02-14",
         "2025-02-14 19:54:48",
         "card",
         "28.0",
         "Double Irish whiskey"
        ],
        [
         "43",
         "2025-02-15",
         "2025-02-15 09:38:59",
         "card",
         "25.0",
         "Americano"
        ],
        [
         "44",
         "2025-02-15",
         "2025-02-15 11:10:57",
         "card",
         "27.0",
         "Double vanilla"
        ],
        [
         "45",
         "2025-02-15",
         "2025-02-15 13:43:38",
         "cash",
         "30.0",
         "Mochaccino"
        ],
        [
         "46",
         "2025-02-15",
         "2025-02-15 13:45:12",
         "cash",
         "27.0",
         "Irish whiskey with milk"
        ],
        [
         "47",
         "2025-02-15",
         "2025-02-15 15:33:24",
         "card",
         "15.0",
         "Tea"
        ],
        [
         "48",
         "2025-02-15",
         "2025-02-15 15:35:50",
         "card",
         "25.0",
         "Americano with milk"
        ],
        [
         "49",
         "2025-02-15",
         "2025-02-15 15:48:07",
         "card",
         "25.0",
         "Americano with milk"
        ]
       ],
       "shape": {
        "columns": 5,
        "rows": 262
       }
      },
      "text/html": [
       "<div>\n",
       "<style scoped>\n",
       "    .dataframe tbody tr th:only-of-type {\n",
       "        vertical-align: middle;\n",
       "    }\n",
       "\n",
       "    .dataframe tbody tr th {\n",
       "        vertical-align: top;\n",
       "    }\n",
       "\n",
       "    .dataframe thead th {\n",
       "        text-align: right;\n",
       "    }\n",
       "</style>\n",
       "<table border=\"1\" class=\"dataframe\">\n",
       "  <thead>\n",
       "    <tr style=\"text-align: right;\">\n",
       "      <th></th>\n",
       "      <th>date</th>\n",
       "      <th>datetime</th>\n",
       "      <th>cash_type</th>\n",
       "      <th>money</th>\n",
       "      <th>coffee_name</th>\n",
       "    </tr>\n",
       "  </thead>\n",
       "  <tbody>\n",
       "    <tr>\n",
       "      <th>0</th>\n",
       "      <td>2025-02-08</td>\n",
       "      <td>2025-02-08 14:26:04</td>\n",
       "      <td>cash</td>\n",
       "      <td>15.0</td>\n",
       "      <td>Tea</td>\n",
       "    </tr>\n",
       "    <tr>\n",
       "      <th>1</th>\n",
       "      <td>2025-02-08</td>\n",
       "      <td>2025-02-08 14:28:26</td>\n",
       "      <td>cash</td>\n",
       "      <td>15.0</td>\n",
       "      <td>Tea</td>\n",
       "    </tr>\n",
       "    <tr>\n",
       "      <th>2</th>\n",
       "      <td>2025-02-08</td>\n",
       "      <td>2025-02-08 14:33:04</td>\n",
       "      <td>card</td>\n",
       "      <td>20.0</td>\n",
       "      <td>Espresso</td>\n",
       "    </tr>\n",
       "    <tr>\n",
       "      <th>3</th>\n",
       "      <td>2025-02-08</td>\n",
       "      <td>2025-02-08 15:51:04</td>\n",
       "      <td>card</td>\n",
       "      <td>30.0</td>\n",
       "      <td>Chocolate with coffee</td>\n",
       "    </tr>\n",
       "    <tr>\n",
       "      <th>4</th>\n",
       "      <td>2025-02-08</td>\n",
       "      <td>2025-02-08 16:35:01</td>\n",
       "      <td>cash</td>\n",
       "      <td>27.0</td>\n",
       "      <td>Chocolate with milk</td>\n",
       "    </tr>\n",
       "    <tr>\n",
       "      <th>...</th>\n",
       "      <td>...</td>\n",
       "      <td>...</td>\n",
       "      <td>...</td>\n",
       "      <td>...</td>\n",
       "      <td>...</td>\n",
       "    </tr>\n",
       "    <tr>\n",
       "      <th>257</th>\n",
       "      <td>2025-03-23</td>\n",
       "      <td>2025-03-23 14:55:46</td>\n",
       "      <td>cash</td>\n",
       "      <td>30.0</td>\n",
       "      <td>Cappuccino</td>\n",
       "    </tr>\n",
       "    <tr>\n",
       "      <th>258</th>\n",
       "      <td>2025-03-23</td>\n",
       "      <td>2025-03-23 15:15:36</td>\n",
       "      <td>card</td>\n",
       "      <td>25.0</td>\n",
       "      <td>Irish whiskey</td>\n",
       "    </tr>\n",
       "    <tr>\n",
       "      <th>259</th>\n",
       "      <td>2025-03-23</td>\n",
       "      <td>2025-03-23 17:59:25</td>\n",
       "      <td>card</td>\n",
       "      <td>28.0</td>\n",
       "      <td>Super chocolate</td>\n",
       "    </tr>\n",
       "    <tr>\n",
       "      <th>260</th>\n",
       "      <td>2025-03-23</td>\n",
       "      <td>2025-03-23 18:01:33</td>\n",
       "      <td>card</td>\n",
       "      <td>28.0</td>\n",
       "      <td>Vanilla with Irish whiskey</td>\n",
       "    </tr>\n",
       "    <tr>\n",
       "      <th>261</th>\n",
       "      <td>2025-03-23</td>\n",
       "      <td>2025-03-23 21:23:11</td>\n",
       "      <td>card</td>\n",
       "      <td>29.0</td>\n",
       "      <td>Coffee with Irish whiskey</td>\n",
       "    </tr>\n",
       "  </tbody>\n",
       "</table>\n",
       "<p>262 rows × 5 columns</p>\n",
       "</div>"
      ],
      "text/plain": [
       "           date             datetime cash_type  money  \\\n",
       "0    2025-02-08  2025-02-08 14:26:04      cash   15.0   \n",
       "1    2025-02-08  2025-02-08 14:28:26      cash   15.0   \n",
       "2    2025-02-08  2025-02-08 14:33:04      card   20.0   \n",
       "3    2025-02-08  2025-02-08 15:51:04      card   30.0   \n",
       "4    2025-02-08  2025-02-08 16:35:01      cash   27.0   \n",
       "..          ...                  ...       ...    ...   \n",
       "257  2025-03-23  2025-03-23 14:55:46      cash   30.0   \n",
       "258  2025-03-23  2025-03-23 15:15:36      card   25.0   \n",
       "259  2025-03-23  2025-03-23 17:59:25      card   28.0   \n",
       "260  2025-03-23  2025-03-23 18:01:33      card   28.0   \n",
       "261  2025-03-23  2025-03-23 21:23:11      card   29.0   \n",
       "\n",
       "                    coffee_name  \n",
       "0                           Tea  \n",
       "1                           Tea  \n",
       "2                      Espresso  \n",
       "3         Chocolate with coffee  \n",
       "4           Chocolate with milk  \n",
       "..                          ...  \n",
       "257                  Cappuccino  \n",
       "258               Irish whiskey  \n",
       "259             Super chocolate  \n",
       "260  Vanilla with Irish whiskey  \n",
       "261   Coffee with Irish whiskey  \n",
       "\n",
       "[262 rows x 5 columns]"
      ]
     },
     "execution_count": 5,
     "metadata": {},
     "output_type": "execute_result"
    }
   ],
   "source": [
    "df2"
   ]
  },
  {
   "cell_type": "code",
   "execution_count": 9,
   "metadata": {},
   "outputs": [
    {
     "name": "stdout",
     "output_type": "stream",
     "text": [
      "<class 'pandas.core.frame.DataFrame'>\n",
      "RangeIndex: 3636 entries, 0 to 3635\n",
      "Data columns (total 6 columns):\n",
      " #   Column       Non-Null Count  Dtype         \n",
      "---  ------       --------------  -----         \n",
      " 0   date         3636 non-null   datetime64[ns]\n",
      " 1   datetime     3636 non-null   datetime64[ns]\n",
      " 2   cash_type    3636 non-null   object        \n",
      " 3   card         3547 non-null   object        \n",
      " 4   money        3636 non-null   float64       \n",
      " 5   coffee_name  3636 non-null   object        \n",
      "dtypes: datetime64[ns](2), float64(1), object(3)\n",
      "memory usage: 170.6+ KB\n"
     ]
    }
   ],
   "source": [
    "df1['date'] = pd.to_datetime(df1['date'], format='%Y-%m-%d')\n",
    "df1['datetime'] = pd.to_datetime(df1['datetime'])\n",
    "df1.info()"
   ]
  },
  {
   "cell_type": "code",
   "execution_count": 10,
   "metadata": {},
   "outputs": [
    {
     "name": "stdout",
     "output_type": "stream",
     "text": [
      "<class 'pandas.core.frame.DataFrame'>\n",
      "RangeIndex: 262 entries, 0 to 261\n",
      "Data columns (total 5 columns):\n",
      " #   Column       Non-Null Count  Dtype         \n",
      "---  ------       --------------  -----         \n",
      " 0   date         262 non-null    datetime64[ns]\n",
      " 1   datetime     262 non-null    datetime64[ns]\n",
      " 2   cash_type    262 non-null    object        \n",
      " 3   money        262 non-null    float64       \n",
      " 4   coffee_name  262 non-null    object        \n",
      "dtypes: datetime64[ns](2), float64(1), object(2)\n",
      "memory usage: 10.4+ KB\n"
     ]
    }
   ],
   "source": [
    "df2['date'] = pd.to_datetime(df2['date'], format='%Y-%m-%d')\n",
    "df2['datetime'] = pd.to_datetime(df2['datetime'])\n",
    "df2.info()"
   ]
  },
  {
   "cell_type": "code",
   "execution_count": 14,
   "metadata": {},
   "outputs": [
    {
     "data": {
      "application/vnd.microsoft.datawrangler.viewer.v0+json": {
       "columns": [
        {
         "name": "index",
         "rawType": "object",
         "type": "string"
        },
        {
         "name": "0",
         "rawType": "int64",
         "type": "integer"
        }
       ],
       "ref": "f2be4f1d-a9e3-41ca-b90c-44fa14efc9d9",
       "rows": [
        [
         "date",
         "0"
        ],
        [
         "datetime",
         "0"
        ],
        [
         "cash_type",
         "0"
        ],
        [
         "card",
         "0"
        ],
        [
         "money",
         "0"
        ],
        [
         "coffee_name",
         "0"
        ]
       ],
       "shape": {
        "columns": 1,
        "rows": 6
       }
      },
      "text/plain": [
       "date           0\n",
       "datetime       0\n",
       "cash_type      0\n",
       "card           0\n",
       "money          0\n",
       "coffee_name    0\n",
       "dtype: int64"
      ]
     },
     "execution_count": 14,
     "metadata": {},
     "output_type": "execute_result"
    }
   ],
   "source": [
    "df1.isna().sum()\n",
    "df1['card'] = df1['card'].fillna('Unknown')\n",
    "df1.isna().sum()"
   ]
  },
  {
   "cell_type": "code",
   "execution_count": 12,
   "metadata": {},
   "outputs": [
    {
     "data": {
      "application/vnd.microsoft.datawrangler.viewer.v0+json": {
       "columns": [
        {
         "name": "index",
         "rawType": "object",
         "type": "string"
        },
        {
         "name": "0",
         "rawType": "int64",
         "type": "integer"
        }
       ],
       "ref": "113f18d1-d0e0-47a1-b242-45170092ae12",
       "rows": [
        [
         "date",
         "0"
        ],
        [
         "datetime",
         "0"
        ],
        [
         "cash_type",
         "0"
        ],
        [
         "money",
         "0"
        ],
        [
         "coffee_name",
         "0"
        ]
       ],
       "shape": {
        "columns": 1,
        "rows": 5
       }
      },
      "text/plain": [
       "date           0\n",
       "datetime       0\n",
       "cash_type      0\n",
       "money          0\n",
       "coffee_name    0\n",
       "dtype: int64"
      ]
     },
     "execution_count": 12,
     "metadata": {},
     "output_type": "execute_result"
    }
   ],
   "source": [
    "df2.isna().sum()"
   ]
  },
  {
   "cell_type": "code",
   "execution_count": 20,
   "metadata": {},
   "outputs": [
    {
     "name": "stdout",
     "output_type": "stream",
     "text": [
      "coffee_name\n",
      "Americano with Milk    824\n",
      "Name: money, dtype: int64\n"
     ]
    }
   ],
   "source": [
    "coffee_most_popular = df1.groupby('coffee_name')['money'].count().sort_values(ascending=False).head(1)\n",
    "print(coffee_most_popular)"
   ]
  },
  {
   "cell_type": "code",
   "execution_count": 21,
   "metadata": {},
   "outputs": [
    {
     "name": "stdout",
     "output_type": "stream",
     "text": [
      "coffee_name\n",
      "Americano with milk    44\n",
      "Name: money, dtype: int64\n"
     ]
    }
   ],
   "source": [
    "coffee_most_popular_2 = df2.groupby('coffee_name')['money'].count().sort_values(ascending=False).head(1)\n",
    "print(coffee_most_popular_2)"
   ]
  },
  {
   "cell_type": "code",
   "execution_count": 62,
   "metadata": {},
   "outputs": [
    {
     "data": {
      "image/png": "[encoded data removed]",
      "text/plain": [
       "<Figure size 1200x600 with 1 Axes>"
      ]
     },
     "metadata": {},
     "output_type": "display_data"
    }
   ],
   "source": [
    "## comparacion de popularidad de cafes\n",
    "plt.figure(figsize=(12, 6))\n",
    "plt.subplot(1, 2, 1)\n",
    "df1.groupby('coffee_name')['money'].count().sort_values(ascending=False).head(10).plot(kind='bar')\n",
    "plt.title('Most Popular Coffee')\n",
    "plt.xlabel('Coffee Name')\n",
    "plt.ylabel('Numero de veces vendidos')\n",
    "\n",
    "plt.show()"
   ]
  },
  {
   "cell_type": "markdown",
   "metadata": {},
   "source": [
    "## Cafe mas popular 📊\n",
    "- • sabemos que el americano con leche es el mas popular entonces necesitamos mayor rotacion de ese cafe\n",
    "\n",
    "- • el Espresso es el que menos piden entonces podemos hacer una promecion con algun conjunto para que aumente el ticket promedio con el espresso, ya sea un pan, algun snack, o demas\n",
    "\n",
    "- • si no vemos mejora en el Espresso entoces darle baja y meter algun otra alternativa"
   ]
  },
  {
   "cell_type": "code",
   "execution_count": 61,
   "metadata": {},
   "outputs": [
    {
     "data": {
      "image/png": "[encoded data removed]",
      "text/plain": [
       "<Figure size 1200x600 with 1 Axes>"
      ]
     },
     "metadata": {},
     "output_type": "display_data"
    }
   ],
   "source": [
    "ganancia_por_cafe = df1.groupby('coffee_name')['money'].sum().sort_values(ascending=False).head(10)\n",
    "plt.figure(figsize=(12, 6))\n",
    "ganancia_por_cafe.plot(kind='bar')\n",
    "plt.title('Most Profitable Coffee')\n",
    "plt.xlabel('Coffee Name')\n",
    "plt.ylabel('Dinero Ganado')\n",
    "plt.tight_layout()\n",
    "plt.show()"
   ]
  },
  {
   "cell_type": "markdown",
   "metadata": {},
   "source": [
    "## Ganancia por cafe 💵\n",
    "coffee name: \n",
    "- Latte                  $27,866.30\n",
    "- Americano with Milk    $25,269.12\n",
    "- Cappuccino             $18,034.14\n",
    "- Americano              $15,062.26\n",
    "- Hot Chocolate          $10,172.46\n",
    "- Cocoa                   $8,678.16\n",
    "- Cortado                 $7,534.86\n",
    "- Espresso                $2,814.28\n",
    "\n",
    "podemos meter alguna promocion a los ultimos 3 para que puedan generar mas tickets, y llegar a alcanzar un 5% mas"
   ]
  },
  {
   "cell_type": "code",
   "execution_count": 43,
   "metadata": {},
   "outputs": [
    {
     "name": "stdout",
     "output_type": "stream",
     "text": [
      "Total money generated in Index 1: 115431.58\n",
      "Total money generated in Index 2: 6890.0\n",
      "Total money generated in both indices: 122321.58\n"
     ]
    }
   ],
   "source": [
    "dinero_generado = df1['money'].sum()\n",
    "print(f'Total money generated in Index 1: {dinero_generado}')\n",
    "dinero_generado_2 = df2['money'].sum()\n",
    "print(f'Total money generated in Index 2: {dinero_generado_2}')\n",
    "dinero_total = dinero_generado + dinero_generado_2\n",
    "print(f'Total money generated in both indices: {dinero_total}')"
   ]
  },
  {
   "cell_type": "markdown",
   "metadata": {},
   "source": [
    "## La empresa tuvo una ganacia en 1 mes de $122,321.58"
   ]
  },
  {
   "cell_type": "code",
   "execution_count": 50,
   "metadata": {},
   "outputs": [
    {
     "data": {
      "image/png": "[encoded data removed]",
      "text/plain": [
       "<Figure size 1200x600 with 1 Axes>"
      ]
     },
     "metadata": {},
     "output_type": "display_data"
    },
    {
     "data": {
      "image/png": "[encoded data removed]",
      "text/plain": [
       "<Figure size 1200x600 with 1 Axes>"
      ]
     },
     "metadata": {},
     "output_type": "display_data"
    }
   ],
   "source": [
    "# Comparación de métodos de pago entre los dos índices pie chart\n",
    "plt.figure(figsize=(12, 6))\n",
    "df1['cash_type'].value_counts().plot(kind='pie', autopct='%1.1f%%')\n",
    "plt.title('Payment Methods in Index 1')\n",
    "plt.ylabel('')\n",
    "plt.show()\n",
    "plt.figure(figsize=(12, 6))\n",
    "df2['cash_type'].value_counts().plot(kind='pie', autopct='%1.1f%%')\n",
    "plt.title('Payment Methods in Index 2')\n",
    "plt.ylabel('')\n",
    "plt.show()"
   ]
  },
  {
   "cell_type": "code",
   "execution_count": 60,
   "metadata": {},
   "outputs": [
    {
     "data": {
      "image/png": "[encoded data removed]",
      "text/plain": [
       "<Figure size 1200x600 with 1 Axes>"
      ]
     },
     "metadata": {},
     "output_type": "display_data"
    }
   ],
   "source": [
    "# linea de tiempo de ventas por fecha\n",
    "plt.figure(figsize=(12, 6))\n",
    "df1.groupby('date')['money'].sum().plot(kind='line')\n",
    "plt.title('linea de tiempo de ventas por fecha')\n",
    "plt.xlabel('Fecha')\n",
    "plt.ylabel('Dinero Generado')\n",
    "plt.xticks(rotation=45)\n",
    "plt.tight_layout()\n",
    "plt.show()"
   ]
  },
  {
   "cell_type": "code",
   "execution_count": 76,
   "metadata": {},
   "outputs": [
    {
     "name": "stdout",
     "output_type": "stream",
     "text": [
      "card\n",
      "ANON-0000-0000-0012    129\n",
      "ANON-0000-0000-0141    108\n",
      "Unknown                 89\n",
      "ANON-0000-0000-1163     77\n",
      "ANON-0000-0000-0276     69\n",
      "ANON-0000-0000-0009     67\n",
      "ANON-0000-0000-0507     51\n",
      "ANON-0000-0000-0040     50\n",
      "ANON-0000-0000-0097     47\n",
      "ANON-0000-0000-1110     33\n",
      "ANON-0000-0000-1170     32\n",
      "ANON-0000-0000-0003     31\n",
      "ANON-0000-0000-0570     30\n",
      "ANON-0000-0000-1191     27\n",
      "ANON-0000-0000-1152     23\n",
      "ANON-0000-0000-0206     23\n",
      "ANON-0000-0000-0333     22\n",
      "ANON-0000-0000-0019     21\n",
      "Name: money, dtype: int64\n"
     ]
    }
   ],
   "source": [
    "card_most_popular = df1.groupby('card')['money'].count().sort_values(ascending=False)\n",
    "card_most_popular = card_most_popular[card_most_popular > 20]\n",
    "print(card_most_popular)"
   ]
  },
  {
   "cell_type": "markdown",
   "metadata": {},
   "source": [
    "## Clientes frecuentes un descuento por fielidad\n",
    "un descuento del 15 o 20% de agradecimiento por elegirnos y incentivar a los nuevos clientes con ese descuento que sea escalable, en el nivel 1 quizas el 5% en el nivel 2 sube y asi progresivamente hasta llegar a 20 o 15 estos son algunos de nuestros clientes con mas de 20 compras en el mes, estamos hablando que minimo 1 vez por dia entre semana nos visitan \n",
    "card\n",
    "- ANON-0000-0000-0012    129\n",
    "- NON-0000-0000-0141    108\n",
    "- Unknown                 89\n",
    "- ANON-0000-0000-1163     77\n",
    "- ANON-0000-0000-0276     69\n",
    "- ANON-0000-0000-0009     67\n",
    "- ANON-0000-0000-0507     51\n",
    "- ANON-0000-0000-0040     50\n",
    "- ANON-0000-0000-0097     47\n",
    "- ANON-0000-0000-1110     33\n",
    "- ANON-0000-0000-1170     32\n",
    "- ANON-0000-0000-0003     31\n",
    "- ANON-0000-0000-0570     30\n",
    "- ANON-0000-0000-1191     27\n",
    "- ANON-0000-0000-1152     23\n",
    "- ANON-0000-0000-0206     23\n",
    "- ANON-0000-0000-0333     22\n",
    "- ANON-0000-0000-0019     21\n"
   ]
  },
  {
   "cell_type": "markdown",
   "metadata": {},
   "source": [
    "## Conclusiones generales\n",
    "- El negocio del cafe va super bien con ganacias de mas de $100k en un mes es super bueno con un gran marge de ganacia\n",
    "\n",
    "- Las ventas diarias en un grafico mensual nos da a entender que ha ido creciendo bien pero podria ser mejor con un un plan de marketing, como el planea el descuento para clientes frecuentes, el agregar mas variades de cafes y a su vez comida rapida algo como panes, sandwichs y demas\n",
    "\n",
    "- Hay que ir rotando mas los productos como el ejemplo del Espresso agregar una promocion y ver que tanto influye en 1 mes mas, si no rotar por otra alternativa\n",
    "\n",
    "- Un 32.9% es pago con tarjeta eso indica que la mayoria de los clientes usan tarjeta, entonces podemos ofrecer una consola con pago sin contacto, agregar metodos de pago en las cuales puedan usar como uber, rappi, didi y demas plataformas "
   ]
  }
 ],
 "metadata": {
  "kernelspec": {
   "display_name": "Python 3",
   "language": "python",
   "name": "python3"
  },
  "language_info": {
   "codemirror_mode": {
    "name": "ipython",
    "version": 3
   },
   "file_extension": ".py",
   "mimetype": "text/x-python",
   "name": "python",
   "nbconvert_exporter": "python",
   "pygments_lexer": "ipython3",
   "version": "3.12.8"
  }
 },
 "nbformat": 4,
 "nbformat_minor": 2
}
